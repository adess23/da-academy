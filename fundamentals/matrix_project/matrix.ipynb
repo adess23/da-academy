{
 "cells": [
  {
   "cell_type": "code",
<<<<<<< Updated upstream:fundamentals/matrix.ipynb
   "execution_count": 358,
=======
   "execution_count": 6,
>>>>>>> Stashed changes:fundamentals/matrix_project/matrix.ipynb
   "metadata": {},
   "outputs": [],
   "source": [
    "#  matrix functionalities\n",
    "#Custom Transformer that extracts columns passed as argument to its constructor \n",
    "class MatrixOperations():\n",
    "    #Class Constructor \n",
    "    def __init__( self, matrix ):\n",
    "        self.matrix = matrix \n",
    "    \n",
    "    def matrix_adition(self, m):\n",
    "        if len(m) != len(self.matrix) or len(m[0]) != len(self.matrix[0]):\n",
    "            raise Exception('No se pueden sumar porque no tiene la misma dimension')\n",
    "        else:\n",
    "            return [[self.matrix[i][j] + m[i][j] for j in range(len(self.matrix[0]))] for i in range(len(self.matrix))]\n",
    "\n",
    "    def matrix_multiplication(self, m):\n",
    "        if len(m[0]) != len(self.matrix[0]):\n",
    "            print('No se pueden sumar porque no tiene la misma dimension de columnas')\n",
    "        else:\n",
    "            return [[sum(a*b for a,b in zip(X_row,Y_col)) for Y_col in zip(*m)] for X_row in self.matrix]\n",
    "\n",
    "    def scalar_multiplication(self, s):\n",
    "            return [[self.matrix[i][j] * s for j in range(len(self.matrix[0]))] for i in range(len(self.matrix))]\n",
    "\n",
    "    def matrix_transpose(self, m):\n",
    "        return list(zip(*m))\n",
    "\n",
    "\n",
    "    def matrix_determinant(self, m):\n",
    "        if len(m) == 2:\n",
    "            return m[0][0]*m[1][1]-m[0][1]*m[1][0]\n",
    "\n",
    "        result = 0\n",
    "        for c in range(len(m)):\n",
    "            result += ((-1)**c)*m[0][c]*self.matrix_determinant(self.getMatrixMinor(m,0,c))\n",
    "        return result\n",
    "\n",
    "    def getMatrixMinor(self,m,i,j):\n",
    "        return [row[:j] + row[j+1:] for row in (m[:i]+m[i+1:])]\n",
    "\n",
    "    def getMatrixMinor_byColumn(self,m,j):\n",
    "        return [row[j-1:j+1] for row in (m[0:])]\n",
    "\n",
    "    def matrix_adjugate(self, m):\n",
    "        if len(m) == 2:\n",
    "            return m[0][0]*m[1][1]-m[0][1]*m[1][0]\n",
    "\n",
    "        return [[((-1)**(i+j))*self.matrix_determinant(self.getMatrixMinor(m,i,j)) for j in range(len(m))] for i in range(len(m[0]))]\n",
    "\n",
    "    def matrix_inverted(self,m):\n",
    "        mcopy =  m.copy()\n",
    "        self.matrix = self.matrix_adjugate(m)\n",
    "        m = self.matrix_transpose(self.matrix)\n",
    "        s = self.matrix_determinant(mcopy)\n",
    "        return [[m[i][j] /s for j in range(len(m[0]))] for i in range(len(m))]\n",
    "\n",
    "    #Return self nothing else to do here    \n",
    "    def matrix_by_row_or_column( self, arrayRows, isRow):\n",
    "        if isRow:\n",
    "            return [self.matrix[:][i-1] for i in arrayRows]\n",
    "        else:    \n",
    "            return [list(zip(*self.matrix))[i-1] for i in arrayRows]\n",
    "  \n",
    "    def print_matrix(self, m):\n",
    "        for i in m:\n",
    "            print(i)"
   ]
  },
  {
   "cell_type": "code",
<<<<<<< Updated upstream:fundamentals/matrix.ipynb
   "execution_count": 359,
   "metadata": {},
   "outputs": [
    {
     "output_type": "stream",
     "name": "stdout",
     "text": "[5, 6]\n[10, 10]\n[11, 11]\n[12, 12]\n[13, 13]\n[14, 14]\n[15, 15]\n[16, 16]\n[-5, -6]\n"
    }
   ],
=======
   "execution_count": 8,
   "metadata": {},
   "outputs": [],
>>>>>>> Stashed changes:fundamentals/matrix_project/matrix.ipynb
   "source": [
    "a = [[1,2,3,4,5,6,7,8,9,0],\n",
    "\t[10,10,10,10,10,10,7,8,9,0],\n",
    "\t[11,11,11,11,11,11,7,8,9,0],\n",
    "\t[12,12,12,12,12,12,7,8,9,0],\n",
    "\t[13,13,13,13,13,13,7,8,9,0],\n",
    "\t[14,14,14,14,14,14,7,8,9,0],\n",
    "\t[15,15,15,15,15,15,7,8,9,0],\n",
    "\t[16,16,16,16,16,16,7,8,9,0],\n",
    "\t[-1,-2,-3,-4,-5,-6,7,8,9,0]]\n",
    "\n",
    "b = [[1, 2, 3], \n",
    "    [3, 2, 1], \n",
    "    [1, 0, 1]]\n",
    "ma = MatrixOperations(a)\n",
<<<<<<< Updated upstream:fundamentals/matrix.ipynb
    "aT = ma.getMatrixMinor_byColumn(a, 5)\n",
    "ma.print_matrix(aT)"
   ]
=======
    "#aT = ma.matrix_adition(b)\n",
    "#aT#ma.print_matrix(aT)"
   ]
  },
  {
   "cell_type": "code",
   "execution_count": 25,
   "metadata": {},
   "outputs": [],
   "source": [
    "# content of test_class.py\n",
    "class TestMatrixOperations:\n",
    "    def test_matrix_adition(self):\n",
    "        x = create_matrix_3x3()\n",
    "        assert create_matrix_3x3() == x\n",
    "\n",
    "    def create_matrix_10x10():\n",
    "        return [[1,2,3,4,5,6,7,8,9,0],\n",
    "        [10,10,10,10,10,10,7,8,9,0],\n",
    "        [11,11,11,11,11,11,7,8,9,0],\n",
    "        [12,12,12,12,12,12,7,8,9,0],\n",
    "        [13,13,13,13,13,13,7,8,9,0],\n",
    "        [14,14,14,14,14,14,7,8,9,0],\n",
    "        [15,15,15,15,15,15,7,8,9,0],\n",
    "        [16,16,16,16,16,16,7,8,9,0],\n",
    "        [-1,-2,-3,-4,-5,-6,7,8,9,0],\n",
    "        [0,-2,-3,0,1,1,1,8,9,1]]\n",
    "\n",
    "    def create_matrix_3x3():\n",
    "        return [[1, 2, 3], \n",
    "                [3, 2, 1], \n",
    "                [1, 0, 1]]"
   ]
  },
  {
   "cell_type": "code",
   "execution_count": 29,
   "metadata": {},
   "outputs": [],
   "source": [
    "# content of test_sample.py\n",
    "def test_matrix_adition(self):\n",
    "    x = create_matrix_3x3()\n",
    "    assert create_matrix_3x3() == x\n",
    "\n",
    "def create_matrix_3x3():\n",
    "    return [[1, 2, 3], \n",
    "            [3, 2, 1], \n",
    "            [1, 0, 1]]  \n",
    "              "
   ]
  },
  {
   "cell_type": "code",
   "execution_count": 35,
   "metadata": {},
   "outputs": [
    {
     "output_type": "stream",
     "name": "stdout",
     "text": "5.4.1\n"
    }
   ],
   "source": []
  },
  {
   "cell_type": "code",
   "execution_count": null,
   "metadata": {},
   "outputs": [],
   "source": []
>>>>>>> Stashed changes:fundamentals/matrix_project/matrix.ipynb
  }
 ],
 "metadata": {
  "language_info": {
   "codemirror_mode": {
    "name": "ipython",
    "version": 3
   },
   "file_extension": ".py",
   "mimetype": "text/x-python",
   "name": "python",
   "nbconvert_exporter": "python",
   "pygments_lexer": "ipython3",
   "version": "3.7.6-final"
  },
  "orig_nbformat": 2,
  "kernelspec": {
   "name": "python3",
   "display_name": "Python 3"
  }
 },
 "nbformat": 4,
 "nbformat_minor": 2
}