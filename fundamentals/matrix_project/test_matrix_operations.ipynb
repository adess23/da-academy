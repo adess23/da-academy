{
 "cells": [
  {
   "cell_type": "code",
   "execution_count": 7,
   "metadata": {},
   "outputs": [
    {
     "output_type": "stream",
     "name": "stdout",
     "text": "Collecting import_ipynb\n  Downloading import-ipynb-0.1.3.tar.gz (4.0 kB)\nBuilding wheels for collected packages: import-ipynb\n  Building wheel for import-ipynb (setup.py): started\n  Building wheel for import-ipynb (setup.py): finished with status 'done'\n  Created wheel for import-ipynb: filename=import_ipynb-0.1.3-py3-none-any.whl size=2979 sha256=93939ca549fcb1007eddb1aa30d76fa39b214a80119041f70ad85fcf8fda589b\n  Stored in directory: c:\\users\\josealexander.pena\\appdata\\local\\pip\\cache\\wheels\\b1\\5e\\dc\\79780689896a056199b0b9f24471e3ee184fbd816df355d5f0\nSuccessfully built import-ipynb\nInstalling collected packages: import-ipynb\nSuccessfully installed import-ipynb-0.1.3\n"
    }
   ],
   "source": [
    "#pip install -U ipytest\n",
    "#!pip install import_ipynb"
   ]
  },
  {
   "cell_type": "code",
   "execution_count": 12,
   "metadata": {},
   "outputs": [
    {
     "output_type": "stream",
     "name": "stdout",
     "text": "py:3.7.6 (default, Jan  8 2020, 20:23:39) [MSC v.1916 64 bit (AMD64)]\n"
    },
    {
     "output_type": "execute_result",
     "data": {
      "text/plain": "<module 'ipytest' from 'C:\\\\Users\\\\josealexander.pena\\\\AppData\\\\Local\\\\Continuum\\\\miniconda3\\\\envs\\\\ds2\\\\lib\\\\site-packages\\\\ipytest\\\\__init__.py'>"
     },
     "metadata": {},
     "execution_count": 12
    }
   ],
   "source": [
    "import ipytest.magics\n",
    "import sys\n",
    "print('py:'+sys.version)\n",
    "ipytest"
   ]
  },
  {
   "cell_type": "code",
   "execution_count": 191,
   "metadata": {},
   "outputs": [
    {
     "output_type": "stream",
     "name": "stdout",
     "text": "importing Jupyter notebook from matrix.ipynb\n"
    }
   ],
   "source": [
    "from importlib import reload  \n",
    "import import_ipynb\n",
    "import matrix as file\n",
    "file = reload(file)\n",
    "__file__='test_matrix_operations.ipynb'\n",
    "#enable pytest's assertions\n",
    "ipytest.config.rewrite_asserts = True\n",
    "\n"
   ]
  },
  {
   "cell_type": "code",
   "execution_count": 192,
   "metadata": {},
   "outputs": [],
   "source": [
    "import unittest\n",
    "# content of test_class.py\n",
    "class TestMatrixOperations(unittest.TestCase):\n",
    "    \n",
    "    def test_matrix_adition_fail(self):\n",
    "        ma = file.MatrixOperations(self.create_matrix_10x10())\n",
    "        x = self.create_matrix_3x3()\n",
    "        with self.assertRaises(UserWarning) as cm:\n",
    "            ma.matrix_adition(x)\n",
    "        the_exception = cm.exception.args[0]\n",
    "        self.assertEqual(the_exception, 'No se pueden sumar porque no tiene la misma dimension')        \n",
    "                                          \n",
    "    def test_matrix_adition(self):\n",
    "        ma = file.MatrixOperations(self.create_matrix_3x3())\n",
    "        x = self.create_matrix_3x3()\n",
    "        assert ma.matrix_adition(x) == [[2, 4, 6], \n",
    "                                        [6, 4, 2], \n",
    "                                        [2, 0, 2]]\n",
    "    def test_matrix_multiplication_fail(self):\n",
    "        ma = file.MatrixOperations(self.create_matrix_10x10())\n",
    "        x = self.create_matrix_3x3()\n",
    "        with self.assertRaises(UserWarning) as cm:\n",
    "            ma.matrix_multiplication(x)\n",
    "        the_exception = cm.exception.args[0]\n",
    "        self.assertEqual(the_exception, 'No se pueden sumar porque no tiene la misma dimension de columnas')\n",
    "\n",
    "    def test_matrix_multiplication(self):\n",
    "        ma = file.MatrixOperations(self.create_matrix_3x3())\n",
    "        x = self.create_matrix_3x3()\n",
    "        assert ma.matrix_multiplication(x) == [[10, 6, 8], \n",
    "                                            [10, 10, 12], \n",
    "                                            [2, 2, 4]] \n",
    "\n",
    "    def test_matrix_transpose(self):\n",
    "        ma = file.MatrixOperations(self.create_matrix_3x3())\n",
    "        x = self.create_matrix_3x3()\n",
    "        assert ma.matrix_transpose(x) == [(1, 3, 1), \n",
    "                                            (2, 2, 0), \n",
    "                                            (3, 1, 1)]       \n",
    "\n",
    "    def test_matrix_determinant(self):\n",
    "        ma = file.MatrixOperations(self.create_matrix_3x3())\n",
    "        x = self.create_matrix_3x3()\n",
    "        assert ma.matrix_determinant(x) == -8   \n",
    "\n",
    "    def test_getMatrixMinor(self):\n",
    "        ma = file.MatrixOperations(self.create_matrix_3x3())\n",
    "        x = self.create_matrix_3x3()\n",
    "        assert ma.getMatrixMinor(x, 1, 1) == [[1, 3], \n",
    "                                             [1, 1]]    \n",
    "\n",
    "    def test_matrix_adjugate(self):\n",
    "        ma = file.MatrixOperations(self.create_matrix_3x3())\n",
    "        x = self.create_matrix_3x3()\n",
    "        assert ma.matrix_adjugate(x) == [[2, -2, -2], \n",
    "                                        [-2, -2, 2], \n",
    "                                        [-4, 8, -4]]   \n",
    "\n",
    "    def test_matrix_inverted(self):\n",
    "        ma = file.MatrixOperations(self.create_matrix_3x3())\n",
    "        x = self.create_matrix_3x3()\n",
    "        assert ma.matrix_inverted(x) == [[-0.25, 0.25, 0.5], \n",
    "                                        [0.25, 0.25, -1.0], \n",
    "                                        [0.25, -0.25, 0.5]] \n",
    "\n",
    "    def test_matrix_by_column(self):\n",
    "        ma = file.MatrixOperations(self.create_matrix_20x10())\n",
    "        assert ma.matrix_by_row_or_column([1,3,8], isRow=False) == [(1, 10, 11, 12, 13, 14, 15, 16, 1, 0, -1, -2, -3, -4, -5, -6, -7, -8, -9, 0), (3, 10, 11, 12, 13, 14, 15, 16, 3, -3, -3, -3, -3, -3, -3, -3, -3, -3, -3, -3), (8, 8, 8, 8, 8, 8, 8, 8, 8, 8, 8, 8, 8, 8, 8, 8, 8, 8, 8, 8)]   \n",
    "\n",
    "    def test_matrix_by_row(self):\n",
    "        ma = file.MatrixOperations(self.create_matrix_20x10())\n",
    "        assert ma.matrix_by_row_or_column([2,4,10], isRow=True) == [[10, 10, 10, 10, 10, 10, 7, 8, 9, 0], \n",
    "                                                                    [12, 12, 12, 12, 12, 12, 7, 8, 9, 0], \n",
    "                                                                    [0, -2, -3, 0, 1, 1, 1, 8, 9, 1]]     \n",
    "\n",
    "\n",
    "    def test_getMatrixMinor_byColumn(self):\n",
    "        ma = file.MatrixOperations(self.create_matrix_3x3())\n",
    "        x = self.create_matrix_10x10()\n",
    "        assert ma.getMatrixMinor_byColumn(x, 5) == [[5,6],\n",
    "                                                    [10,10],\n",
    "                                                    [11,11],\n",
    "                                                    [12,12],\n",
    "                                                    [13,13],\n",
    "                                                    [14,14],\n",
    "                                                    [15,15],\n",
    "                                                    [16,16],\n",
    "                                                    [-5,-6],\n",
    "                                                    [1,1]]    \n",
    "    \n",
    "    def create_matrix_20x10(self):\n",
    "        return [[1,2,3,4,5,6,7,8,9,0],\n",
    "                [10,10,10,10,10,10,7,8,9,0],\n",
    "                [11,11,11,11,11,11,7,8,9,0],\n",
    "                [12,12,12,12,12,12,7,8,9,0],\n",
    "                [13,13,13,13,13,13,7,8,9,0],\n",
    "                [14,14,14,14,14,14,7,8,9,0],\n",
    "                [15,15,15,15,15,15,7,8,9,0],\n",
    "                [16,16,16,16,16,16,7,8,9,0],\n",
    "                [1, 2, 3, 4, 5, 6, 7,8,9,0],\n",
    "                [0, -2,-3, 0, 1, 1,1,8,9,1],\n",
    "                [-1,-2,-3,-4,-5,-6,7,8,9,0],\n",
    "                [-2,-2,-3,-4,-5,-6,7,8,9,0],\n",
    "                [-3,-2,-3,-4,-5,-6,7,8,9,0],\n",
    "                [-4,-2,-3,-4,-5,-6,7,8,9,0],\n",
    "                [-5,-2,-3,-4,-5,-6,7,8,9,0],\n",
    "                [-6,-2,-3,-4,-5,-6,7,8,9,0],\n",
    "                [-7,-2,-3,-4,-5,-6,7,8,9,0],\n",
    "                [-8,-2,-3,-4,-5,-6,7,8,9,0],\n",
    "                [-9,-2,-3,-4,-5,-6,7,8,9,0],\n",
    "                [-0,-2,-3,-4,-5,-6,7,8,9,0]]         \n",
    "                                       \n",
    "    def create_matrix_10x10(self):\n",
    "        return [[1,2,3,4,5,6,7,8,9,0],\n",
    "                [10,10,10,10,10,10,7,8,9,0],\n",
    "                [11,11,11,11,11,11,7,8,9,0],\n",
    "                [12,12,12,12,12,12,7,8,9,0],\n",
    "                [13,13,13,13,13,13,7,8,9,0],\n",
    "                [14,14,14,14,14,14,7,8,9,0],\n",
    "                [15,15,15,15,15,15,7,8,9,0],\n",
    "                [16,16,16,16,16,16,7,8,9,0],\n",
    "                [-1,-2,-3,-4,-5,-6,7,8,9,0],\n",
    "                [0,-2,-3,0,1,1,1,8,9,1]]\n",
    "\n",
    "    def create_matrix_3x3(self):\n",
    "        return [[1, 2, 3], \n",
    "                [3, 2, 1], \n",
    "                [1, 0, 1]]"
   ]
  },
  {
   "cell_type": "code",
   "execution_count": 193,
   "metadata": {},
   "outputs": [
    {
     "output_type": "stream",
     "name": "stdout",
     "text": "............                                                             [100%]\n"
    }
   ],
   "source": [
    "# execute the tests via pytest, arguments are passed to pytest\n",
    "ipytest.run('-qq')"
   ]
  },
  {
   "cell_type": "code",
   "execution_count": null,
   "metadata": {},
   "outputs": [],
   "source": []
  }
 ],
 "metadata": {
  "language_info": {
   "codemirror_mode": {
    "name": "ipython",
    "version": 3
   },
   "file_extension": ".py",
   "mimetype": "text/x-python",
   "name": "python",
   "nbconvert_exporter": "python",
   "pygments_lexer": "ipython3",
   "version": "3.7.6-final"
  },
  "orig_nbformat": 2,
  "kernelspec": {
   "name": "python3",
   "display_name": "Python 3"
  }
 },
 "nbformat": 4,
 "nbformat_minor": 2
}