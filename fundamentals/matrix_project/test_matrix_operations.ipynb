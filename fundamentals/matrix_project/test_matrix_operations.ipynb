{
 "cells": [
  {
   "cell_type": "code",
   "execution_count": 7,
   "metadata": {},
   "outputs": [
    {
     "output_type": "stream",
     "name": "stdout",
     "text": "Collecting import_ipynb\n  Downloading import-ipynb-0.1.3.tar.gz (4.0 kB)\nBuilding wheels for collected packages: import-ipynb\n  Building wheel for import-ipynb (setup.py): started\n  Building wheel for import-ipynb (setup.py): finished with status 'done'\n  Created wheel for import-ipynb: filename=import_ipynb-0.1.3-py3-none-any.whl size=2979 sha256=93939ca549fcb1007eddb1aa30d76fa39b214a80119041f70ad85fcf8fda589b\n  Stored in directory: c:\\users\\josealexander.pena\\appdata\\local\\pip\\cache\\wheels\\b1\\5e\\dc\\79780689896a056199b0b9f24471e3ee184fbd816df355d5f0\nSuccessfully built import-ipynb\nInstalling collected packages: import-ipynb\nSuccessfully installed import-ipynb-0.1.3\n"
    }
   ],
   "source": [
    "#pip install -U ipytest\n",
    "#!pip install import_ipynb"
   ]
  },
  {
   "cell_type": "code",
   "execution_count": 1,
   "metadata": {},
   "outputs": [
    {
     "output_type": "stream",
     "name": "stdout",
     "text": "py:3.7.6 (default, Jan  8 2020, 20:23:39) [MSC v.1916 64 bit (AMD64)]\n"
    },
    {
     "output_type": "execute_result",
     "data": {
      "text/plain": "<module 'ipytest' from 'C:\\\\Users\\\\josealexander.pena\\\\AppData\\\\Local\\\\Continuum\\\\miniconda3\\\\envs\\\\ds2\\\\lib\\\\site-packages\\\\ipytest\\\\__init__.py'>"
     },
     "metadata": {},
     "execution_count": 1
    }
   ],
   "source": [
    "import ipytest.magics\n",
    "import sys\n",
    "print('py:'+sys.version)\n",
    "ipytest"
   ]
  },
  {
   "cell_type": "code",
   "execution_count": 45,
   "metadata": {},
   "outputs": [
    {
     "output_type": "stream",
     "name": "stdout",
     "text": "importing Jupyter notebook from matrix.ipynb\n"
    }
   ],
   "source": [
    "from importlib import reload  \n",
    "import import_ipynb\n",
    "import matrix as file\n",
    "file = reload(file)\n",
    "__file__='test_matrix_operations.ipynb'\n",
    "#enable pytest's assertions\n",
    "ipytest.config.rewrite_asserts = True\n",
    "\n"
   ]
  },
  {
   "cell_type": "code",
   "execution_count": 46,
   "metadata": {},
   "outputs": [
    {
     "output_type": "error",
     "ename": "Exception",
     "evalue": "No se pueden sumar porque no tiene la misma dimension",
     "traceback": [
      "\u001b[1;31m---------------------------------------------------------------------------\u001b[0m",
      "\u001b[1;31mException\u001b[0m                                 Traceback (most recent call last)",
      "\u001b[1;32mc:\\DS\\GitHub\\da-academy\\fundamentals\\matrix_project\\test_matrix_operations.ipynb\u001b[0m in \u001b[0;36m<module>\u001b[1;34m\u001b[0m\n\u001b[0;32m     12\u001b[0m     [1, 0, 1]]    \n\u001b[0;32m     13\u001b[0m \u001b[0mma\u001b[0m \u001b[1;33m=\u001b[0m \u001b[0mfile\u001b[0m\u001b[1;33m.\u001b[0m\u001b[0mMatrixOperations\u001b[0m\u001b[1;33m(\u001b[0m\u001b[0ma\u001b[0m\u001b[1;33m)\u001b[0m\u001b[1;33m\u001b[0m\u001b[1;33m\u001b[0m\u001b[0m\n\u001b[1;32m---> 14\u001b[1;33m \u001b[0maT\u001b[0m \u001b[1;33m=\u001b[0m \u001b[0mma\u001b[0m\u001b[1;33m.\u001b[0m\u001b[0mmatrix_adition\u001b[0m\u001b[1;33m(\u001b[0m\u001b[0mb\u001b[0m\u001b[1;33m)\u001b[0m\u001b[1;33m\u001b[0m\u001b[1;33m\u001b[0m\u001b[0m\n\u001b[0m\u001b[0;32m     15\u001b[0m \u001b[0maT\u001b[0m\u001b[1;33m\u001b[0m\u001b[1;33m\u001b[0m\u001b[0m\n",
      "\u001b[1;32mc:\\DS\\GitHub\\da-academy\\fundamentals\\matrix_project\\matrix.ipynb\u001b[0m in \u001b[0;36mmatrix_adition\u001b[1;34m(self, m)\u001b[0m\n",
      "\u001b[1;31mException\u001b[0m: No se pueden sumar porque no tiene la misma dimension"
     ]
    }
   ],
   "source": [
    "a = [[1,2,3,4,5,6,7,8,9,0],\n",
    "\t[10,10,10,10,10,10,7,8,9,0],\n",
    "\t[11,11,11,11,11,11,7,8,9,0],\n",
    "\t[12,12,12,12,12,12,7,8,9,0],\n",
    "\t[13,13,13,13,13,13,7,8,9,0],\n",
    "\t[14,14,14,14,14,14,7,8,9,0],\n",
    "\t[15,15,15,15,15,15,7,8,9,0],\n",
    "\t[16,16,16,16,16,16,7,8,9,0],\n",
    "\t[-1,-2,-3,-4,-5,-6,7,8,9,0]]\n",
    "b= [[1, 2, 3], \n",
    "    [3, 2, 1], \n",
    "    [1, 0, 1]]    \n",
    "ma = file.MatrixOperations(a)\n",
    "aT = ma.matrix_adition(b)\n",
    "aT"
   ]
  },
  {
   "cell_type": "code",
   "execution_count": 88,
   "metadata": {},
   "outputs": [],
   "source": [
    "import unittest\n",
    "# content of test_class.py\n",
    "class TestMatrixOperations(unittest.TestCase):\n",
    "    \n",
    "    def test_matrix_adition_fail(self):\n",
    "        ma = file.MatrixOperations(self.create_matrix_10x10())\n",
    "        x = self.create_matrix_3x3()\n",
    "        self.assertRaises(Exception, ma.matrix_adition, x)\n",
    "                                          \n",
    "\n",
    "    def create_matrix_10x10(self):\n",
    "        return [[1,2,3,4,5,6,7,8,9,0],\n",
    "        [10,10,10,10,10,10,7,8,9,0],\n",
    "        [11,11,11,11,11,11,7,8,9,0],\n",
    "        [12,12,12,12,12,12,7,8,9,0],\n",
    "        [13,13,13,13,13,13,7,8,9,0],\n",
    "        [14,14,14,14,14,14,7,8,9,0],\n",
    "        [15,15,15,15,15,15,7,8,9,0],\n",
    "        [16,16,16,16,16,16,7,8,9,0],\n",
    "        [-1,-2,-3,-4,-5,-6,7,8,9,0],\n",
    "        [0,-2,-3,0,1,1,1,8,9,1]]\n",
    "\n",
    "    def create_matrix_3x3(self):\n",
    "        return [[1, 2, 3], \n",
    "                [3, 2, 1], \n",
    "                [1, 0, 1]]"
   ]
  },
  {
   "cell_type": "code",
   "execution_count": 89,
   "metadata": {},
   "outputs": [
    {
     "output_type": "stream",
     "name": "stdout",
     "text": ".                                                                        [100%]\n"
    }
   ],
   "source": [
    "# execute the tests via pytest, arguments are passed to pytest\n",
    "ipytest.run('-qq')"
   ]
  },
  {
   "cell_type": "code",
   "execution_count": null,
   "metadata": {},
   "outputs": [],
   "source": []
  }
 ],
 "metadata": {
  "language_info": {
   "codemirror_mode": {
    "name": "ipython",
    "version": 3
   },
   "file_extension": ".py",
   "mimetype": "text/x-python",
   "name": "python",
   "nbconvert_exporter": "python",
   "pygments_lexer": "ipython3",
   "version": "3.7.6-final"
  },
  "orig_nbformat": 2,
  "kernelspec": {
   "name": "python3",
   "display_name": "Python 3"
  }
 },
 "nbformat": 4,
 "nbformat_minor": 2
}